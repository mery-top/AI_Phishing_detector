{
 "cells": [
  {
   "cell_type": "code",
   "execution_count": null,
   "metadata": {},
   "outputs": [],
   "source": [
    "import pandas as pd\n",
    "from sklearn.model_selection import train_test_split\n",
    "from transformers import BertTokenizer"
   ]
  },
  {
   "cell_type": "code",
   "execution_count": 4,
   "metadata": {},
   "outputs": [
    {
     "name": "stdout",
     "output_type": "stream",
     "text": [
      "<bound method NDFrame.head of             Category                                            Message  Label\n",
      "0                ham  Go until jurong point, crazy.. Available only ...    0.0\n",
      "1                ham                      Ok lar... Joking wif u oni...    0.0\n",
      "2               spam  Free entry in 2 a wkly comp to win FA Cup fina...    1.0\n",
      "3                ham  U dun say so early hor... U c already then say...    0.0\n",
      "4                ham  Nah I don't think he goes to usf, he lives aro...    0.0\n",
      "...              ...                                                ...    ...\n",
      "5568             ham               Will ü b going to esplanade fr home?    0.0\n",
      "5569             ham  Pity, * was in mood for that. So...any other s...    0.0\n",
      "5570             ham  The guy did some bitching but I acted like i'd...    0.0\n",
      "5571             ham                         Rofl. Its true to its name    0.0\n",
      "5572  {\"mode\":\"full\"                                    isActive:false}    NaN\n",
      "\n",
      "[5573 rows x 3 columns]>\n"
     ]
    }
   ],
   "source": [
    "df = pd.read_csv('email.csv')  # Replace with your dataset file\n",
    "df['Label'] = df['Category'].map({'ham':0, \"spam\":1})\n",
    "print(df.head)\n",
    "\n",
    "\n",
    "\n",
    "train_texts, val_texts, train_labels, val_labels = train_test_split(\n",
    "    df['Message'], df['Label'], test_size = 0.2, random_state = 42\n",
    ")\n",
    "\n"
   ]
  },
  {
   "cell_type": "code",
   "execution_count": null,
   "metadata": {},
   "outputs": [],
   "source": [
    "# Tokenize Messages\n",
    "from transformers import BertTokenizer\n",
    "tokenizer = BertTokenizer.from_pretrained('bert-base-uncased')\n",
    "\n",
    "\n",
    "#Tokenize the text data\n",
    "train_encodings = tokenizer(list(train_texts), truncation = True, padding=True, max_length=128)\n",
    "val_encodings = tokenizer(list(val_texts), truncation=True, padding = True, max_length=128)"
   ]
  },
  {
   "cell_type": "code",
   "execution_count": 2,
   "metadata": {},
   "outputs": [],
   "source": [
    "import torch\n",
    "\n",
    "class MessageDataset(torch.utils.data.Dataset):\n",
    "    def __init__(self, encodings, labels):\n",
    "        self.encodings = encodings\n",
    "        self.labels = labels\n",
    "        \n",
    "    def __len__(self):\n",
    "        return len(self.labels)\n",
    "    \n",
    "    def __getitem__(self, idx):\n",
    "        return{\n",
    "            'input_ids': self.encodings['input_ids'][idx],\n",
    "            'attention_mask': self.encodings['attention_mask'][idx],\n",
    "            'labels': self.labels[idx]\n",
    "        }\n",
    "        \n",
    "    \n",
    "    \n",
    "    \n",
    "    \n",
    "    \n",
    "    "
   ]
  },
  {
   "cell_type": "markdown",
   "metadata": {},
   "source": []
  },
  {
   "cell_type": "code",
   "execution_count": null,
   "metadata": {},
   "outputs": [],
   "source": []
  }
 ],
 "metadata": {
  "kernelspec": {
   "display_name": ".venv",
   "language": "python",
   "name": "python3"
  },
  "language_info": {
   "codemirror_mode": {
    "name": "ipython",
    "version": 3
   },
   "file_extension": ".py",
   "mimetype": "text/x-python",
   "name": "python",
   "nbconvert_exporter": "python",
   "pygments_lexer": "ipython3",
   "version": "3.11.6"
  }
 },
 "nbformat": 4,
 "nbformat_minor": 2
}
